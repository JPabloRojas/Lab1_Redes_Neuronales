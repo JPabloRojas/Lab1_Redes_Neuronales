{
 "cells": [
  {
   "cell_type": "markdown",
   "metadata": {},
   "source": [
    "#                                              Laboratorio 1: \n",
    "# FUNDAMENTOS DE APRENDIZAJE PROFUNDO CON REDES NEURONALES \n",
    "\n",
    "- Nombre: Juan Pablo Rojas\n",
    "- RUN: 19.237.546-0\n",
    "- Profesor: Gonzalo Acuña\n",
    "- Ayudante: Tomás Child\n",
    "\n",
    "El objetivo de este laborario es implementar un perceptrón simple, dando salidas en base a su función de activacion y\n",
    "el ajuste de sus pesos.\n",
    "El perceptron debe ser implementado para compuertas AND, OR y XOR, entrenandolo con sus respectivas tabla de verdad y luego validarlo con entradas de tamaño 4. \n",
    "Por ultimo se presenta un archivo denominado letter.csv que consiste en la clasisicación de letras \"o\" y \"l\" respecto a su ancho y largo, el objetivo es entrenar el perceptron con estos datos, de modo de ser capás de reconocer las letras. Además para lo mencionado anteriormente, se buscar graficar el comportamiento del error en el entrenamiento del perceptron, y concluir respecto a los resultados obtenidos.\n",
    "\n",
    "# Actividades:"
   ]
  },
  {
   "cell_type": "markdown",
   "metadata": {},
   "source": [
    "#### Actividad 1: Implementar   un   perceptrón   simple   en   Python   utilizando   Jupyter   Notebook.   Este   debe  entregar   una   salida   respecto   a   una   entrada   según   su   función   de   activación   y   ajustar  sus pesos en cada iteración según corresponda. "
   ]
  },
  {
   "cell_type": "code",
   "execution_count": 68,
   "metadata": {},
   "outputs": [],
   "source": [
    "import numpy as np\n",
    "import pandas as pd\n",
    "import matplotlib.pyplot as plt\n",
    "\n",
    "#Clase \"Perceptron\", correspondiente al perceptron simple modelado por Frank Rosenblatt:\n",
    "class Perceptron:\n",
    "    \n",
    "    #Constructor:\n",
    "    #Parametro: iteraciones, correspondientes a numero de iteraciones de entrenamiento.\n",
    "    #Parametro: tasa_aprendizaje, correspondiente a la tasa de aprendizaje del perceptron.\n",
    "    def __init__(self, iteraciones, tasa_aprendizaje):\n",
    "        self.tasa_aprendizaje = tasa_aprendizaje\n",
    "        self.iteraciones = iteraciones\n",
    "        # Array que guarda el numero de errores obtenidos por cada iteracion, con el objetivo de ser graficado.\n",
    "        # Actividad 4\n",
    "        self.numero_de_errores = []\n",
    "\n",
    "    \n",
    "    \n",
    "    # Metodo: entrenar\n",
    "    # Parametro: X, correspondiente al arreglo de valores [medida1,medida2].\n",
    "    # Parametro: y, correspondiente al arreglo de valores yi (letra o o l).\n",
    "    # X e y son coincidentes respecto al orden del dataset, ya que fueron obtenidos mediante separación\n",
    "    # de datos respecto a las columnas para entrenar el perceptron de forma adecuada.\n",
    "    def entrenar(self, X, y):\n",
    "        #Vetor de pesos: 1 + n° de columnas de la entrada.\n",
    "        #La unidad extra es debido a la adición de w0 de la funcion de activación\n",
    "        #El vector representa: W0,W1,W2,...,Wn\n",
    "        self.pesos = np.random.rand(1 + X.shape[1])\n",
    "        \n",
    "        #Iteracion principal en base al numero de iteraciones, por cada una de ellas se recolectara el\n",
    "        #numero de errores obtenidos por cada fila de valores del dataset.\n",
    "        for n in range(self.iteraciones):\n",
    "            errores = 0\n",
    "            #Iteración interna de entrenamiento por cada fila del dataset compuesta por:\n",
    "            #[medida1, medida2](guardada en x) y letra asociada \"o\"/\"l\", que son representadas por -1/1(ajustando dataset)\n",
    "            #con la funcion zip se itera en un Array de la forma(caso letters.csv) [[[medida1,medida2],o],..., [[medida1,medida2],l]]\n",
    "            for xi, valor_real in zip(X, y):\n",
    "                delta_W_ = self.actualizar_pesos(valor_real,xi)\n",
    "                #Si delta_W es distinto de 0, quiere decir que se produjo un error, es decir la diferencia entre\n",
    "                #valor real y valor de activacion fue distinto de cero. Por lo tanto, se cuenta como error.\n",
    "                if(delta_W_ != 0.0):\n",
    "                    errores+=1\n",
    "            #se agrega al array atributo la cantidad de errores obtenidos por esta iteracion.\n",
    "            self.numero_de_errores.append(errores)\n",
    "        return self\n",
    "          \n",
    "    # Método: Actualizar pesos.\n",
    "    # Parámetro: valor_real, correspondiente a un valor yi del array de valores esperados y.\n",
    "    # Parámetro: xi, correspondiente a un valor [medida1, medida2] del arreglo de valores X.\n",
    "    def actualizar_pesos(self,valor_real,xi):\n",
    "        #Delta_W, definido como η * (Valor_real - Valor_activación) * xi.\n",
    "        delta_W_ini = self.tasa_aprendizaje*(valor_real - self.f_activacion(xi)) \n",
    "        delta_W = delta_W_ini*xi\n",
    "        self.pesos[1:] += delta_W\n",
    "        #Actualizacion de el peso correspondiente a w0 con x0 = 1.\n",
    "        self.pesos[0] += delta_W_ini * 1\n",
    "        return delta_W_ini\n",
    "        \n",
    "    # Método: f_activacion, dada la operacion\n",
    "    # Parámetro: X, correspondiente al arreglo de valores [medida1,medida2].\n",
    "    # El valor de alpha es calculado multiplicando el array-fila(X) por el array-columna(pesos)\n",
    "    # Como se indica en la presentación \"Perceptron\" que provee el curso.\n",
    "    def f_activacion(self, X):\n",
    "        alpha = np.dot(X, self.pesos[1:]) + self.pesos[0]\n",
    "        valor = np.where(alpha >= 0.0, 1, -1)\n",
    "        return valor\n",
    "    \n",
    "    # Método: predict_compuertas\n",
    "    # Parámetro: X, correspondiente a un arreglo de entrada con 1 y -1 de tamaño n.\n",
    "    # Esta funcion es usada para obtener el resultado de operaciones lógicas de entradas\n",
    "    # de tamaño n. Los valores son agrupados de a dos y se le aplica la respectiva función\n",
    "    # de activación de la cual se obtendra el resultado lógico.\n",
    "    # Cabe destacar que el perceptron debe estar entrenado con la respectiva compuerta lógica.\n",
    "    def predict_compuertas(self,X):\n",
    "        value = X[0]\n",
    "        for n in range(len(X)-1):\n",
    "            arrayAux = [value]\n",
    "            x_sig = X[n+1]\n",
    "            arrayAux.append(x_sig)\n",
    "            value = self.f_activacion(arrayAux)\n",
    "        return value\n",
    "            "
   ]
  },
  {
   "cell_type": "markdown",
   "metadata": {},
   "source": [
    "#### Actividad 2: Probar   el   perceptrón   implementado   para   una   compuerta   lógica   AND,   OR   y   XOR   con  una entrada de tamaño 4.\n",
    "    \n",
    "- Para el correcto funcionamiento del perceptrón los 0 se consideran como -1.\n",
    "- El array X corresponde a las combinaciones logicas -1 -1|-1 1|1 -1|1 1\n",
    "- El array y corresponde al resultado de las combinaciones logicas de X, respetando el orden."
   ]
  },
  {
   "cell_type": "code",
   "execution_count": 69,
   "metadata": {},
   "outputs": [
    {
     "data": {
      "text/plain": [
       "<__main__.Perceptron instance at 0x7fdecec63ea8>"
      ]
     },
     "execution_count": 69,
     "metadata": {},
     "output_type": "execute_result"
    }
   ],
   "source": [
    "#_________Entrenamiento de perceptrones________\n",
    "#______________Compuerta AND__________________\n",
    "X_AND = np.array([[-1,-1],[1,-1],[-1,1],[1,1]])\n",
    "y_AND = np.array([-1,-1,-1,1])\n",
    "#Entrenamiento del perceptron con compuerta AND\n",
    "perceptron_AND = Perceptron(50,0.1)\n",
    "perceptron_AND.entrenar(X_AND,y_AND)\n",
    "#_____________________________________________\n",
    "\n",
    "#______________Compuerta OR___________________\n",
    "X_OR = np.array([[-1,-1],[1,-1],[-1,1],[1,1]])\n",
    "y_OR = np.array([-1,1,1,1])\n",
    "#Entrenamiento del perceptron con compuerta OR\n",
    "perceptron_OR = Perceptron(50,0.1)\n",
    "perceptron_OR.entrenar(X_OR,y_OR)\n",
    "#____________________________________________\n",
    "#Compuerta XOR\n",
    "X_XOR = np.array([[-1,-1],[1,-1],[-1,1],[1,1]])\n",
    "y_XOR = np.array([-1,1,1,-1])\n",
    "#Entrenamiento del perceptron con compuerta XOR\n",
    "perceptron_XOR = Perceptron(50,0.1)\n",
    "perceptron_XOR.entrenar(X_XOR,y_XOR)\n",
    "\n"
   ]
  },
  {
   "cell_type": "code",
   "execution_count": 70,
   "metadata": {},
   "outputs": [
    {
     "name": "stdout",
     "output_type": "stream",
     "text": [
      "Resultado AND: -1\n",
      "Resultado OR: 1\n",
      "Resultado XOR: 1\n"
     ]
    }
   ],
   "source": [
    "#_______________Estas entradas pueden ser editadas a voluntad____________\n",
    "#__________________________________________\n",
    "#___________________AND____________________\n",
    "entrada_AND = [1,1,1,-1]\n",
    "#__________________________________________\n",
    "#___________________OR_____________________\n",
    "entrada_OR = [1,1,1,-1]\n",
    "#__________________________________________\n",
    "#__________________XOR_____________________\n",
    "entrada_XOR = [1,1,1,-1]\n",
    "#__________________________________________\n",
    "\n",
    "#________Resultado de entradas lógicas_____\n",
    "print(\"Resultado AND: \" + str(perceptron_AND.predict_compuertas(entrada_AND)))\n",
    "print(\"Resultado OR: \" + str(perceptron_OR.predict_compuertas(entrada_OR)))\n",
    "print(\"Resultado XOR: \" + str(perceptron_XOR.predict_compuertas(entrada_XOR)))\n"
   ]
  },
  {
   "cell_type": "markdown",
   "metadata": {},
   "source": [
    "#### Actividad 4(adelanto por conveniencia): Calcular   el   error   obtenido   durante   el   entrenamiento   del   perceptrón   y   expresarlo   a  través de un gráfico. "
   ]
  },
  {
   "cell_type": "code",
   "execution_count": 71,
   "metadata": {},
   "outputs": [
    {
     "data": {
      "image/png": "[encoded data removed]",
      "text/plain": [
       "<Figure size 432x288 with 1 Axes>"
      ]
     },
     "metadata": {
      "needs_background": "light"
     },
     "output_type": "display_data"
    }
   ],
   "source": [
    "plt.plot(range(1,len(perceptron_AND.numero_de_errores) + 1), perceptron_AND.numero_de_errores, marker= \"o\", label = \"AND\")\n",
    "plt.plot(range(1,len(perceptron_OR.numero_de_errores) + 1), perceptron_OR.numero_de_errores, marker= \"o\", label = \"OR\")\n",
    "plt.plot(range(1,len(perceptron_XOR.numero_de_errores) + 1), perceptron_XOR.numero_de_errores, marker= \"o\", label = \"XOR\")\n",
    "plt.title(\"Iteraciones v/s Numero de errores: AND, OR, XOR\")\n",
    "plt.xlabel(\"Iteracion\")\n",
    "plt.ylabel(\"Numero de errores\")\n",
    "plt.legend(loc = \"center right\")\n",
    "plt.tight_layout()\n",
    "plt.show()"
   ]
  },
  {
   "cell_type": "markdown",
   "metadata": {},
   "source": [
    "#### Actividad 3: Probar   el   perceptrón   implementado   para   clasificar   las   entradas   del   dataset  “letters.csv”   determinando   a   qué   letra   corresponde   cada   entrada   según   las  características recibidas. "
   ]
  },
  {
   "cell_type": "code",
   "execution_count": 72,
   "metadata": {},
   "outputs": [
    {
     "data": {
      "text/html": [
       "<div>\n",
       "<style scoped>\n",
       "    .dataframe tbody tr th:only-of-type {\n",
       "        vertical-align: middle;\n",
       "    }\n",
       "\n",
       "    .dataframe tbody tr th {\n",
       "        vertical-align: top;\n",
       "    }\n",
       "\n",
       "    .dataframe thead th {\n",
       "        text-align: right;\n",
       "    }\n",
       "</style>\n",
       "<table border=\"1\" class=\"dataframe\">\n",
       "  <thead>\n",
       "    <tr style=\"text-align: right;\">\n",
       "      <th></th>\n",
       "      <th>0</th>\n",
       "      <th>1</th>\n",
       "      <th>2</th>\n",
       "    </tr>\n",
       "  </thead>\n",
       "  <tbody>\n",
       "    <tr>\n",
       "      <th>0</th>\n",
       "      <td>0.0</td>\n",
       "      <td>0.3</td>\n",
       "      <td>o</td>\n",
       "    </tr>\n",
       "    <tr>\n",
       "      <th>1</th>\n",
       "      <td>0.3</td>\n",
       "      <td>0.0</td>\n",
       "      <td>o</td>\n",
       "    </tr>\n",
       "    <tr>\n",
       "      <th>2</th>\n",
       "      <td>0.6</td>\n",
       "      <td>0.2</td>\n",
       "      <td>o</td>\n",
       "    </tr>\n",
       "    <tr>\n",
       "      <th>3</th>\n",
       "      <td>0.5</td>\n",
       "      <td>0.1</td>\n",
       "      <td>o</td>\n",
       "    </tr>\n",
       "    <tr>\n",
       "      <th>4</th>\n",
       "      <td>0.2</td>\n",
       "      <td>0.4</td>\n",
       "      <td>o</td>\n",
       "    </tr>\n",
       "  </tbody>\n",
       "</table>\n",
       "</div>"
      ],
      "text/plain": [
       "     0    1  2\n",
       "0  0.0  0.3  o\n",
       "1  0.3  0.0  o\n",
       "2  0.6  0.2  o\n",
       "3  0.5  0.1  o\n",
       "4  0.2  0.4  o"
      ]
     },
     "execution_count": 72,
     "metadata": {},
     "output_type": "execute_result"
    }
   ],
   "source": [
    "# Lectura del dataset letters.csv a través de panda.\n",
    "data_letters = pd.read_csv(\"letters.csv\",header=None)\n",
    "data_letters.head()"
   ]
  },
  {
   "cell_type": "code",
   "execution_count": 128,
   "metadata": {},
   "outputs": [
    {
     "data": {
      "text/plain": [
       "<__main__.Perceptron instance at 0x7fdece9d0758>"
      ]
     },
     "execution_count": 128,
     "metadata": {},
     "output_type": "execute_result"
    }
   ],
   "source": [
    "# Se seleccionan los valores de las columnas 0 y 1, correspondiente a ancho y alto.\n",
    "X = data_letters.iloc[:, [0, 1]].values\n",
    "# Se seleccionan los valores de la columna 2, correspondiente al valor real de la letra segun la medida.\n",
    "y = data_letters.iloc[:, 2].values\n",
    "\n",
    "# Se ajusta y dando valor -1 si es \"o\" y 1 si es \"l\"\n",
    "y= np.where(y == \"o\", -1, 1)\n",
    "#_______________Entrenamiento perceptron_______________________\n",
    "perceptron_letters = Perceptron(50, 0.1)\n",
    "perceptron_letters.entrenar(X,y)"
   ]
  },
  {
   "cell_type": "markdown",
   "metadata": {},
   "source": [
    "#### Actividad 4: Calcular   el   error   obtenido   durante   el   entrenamiento   del   perceptrón   y   expresarlo   a  través de un gráfico. "
   ]
  },
  {
   "cell_type": "code",
   "execution_count": 129,
   "metadata": {},
   "outputs": [
    {
     "data": {
      "image/png": "[encoded data removed]",
      "text/plain": [
       "<Figure size 432x288 with 1 Axes>"
      ]
     },
     "metadata": {
      "needs_background": "light"
     },
     "output_type": "display_data"
    }
   ],
   "source": [
    "plt.plot(range(1,len(perceptron_letters.numero_de_errores) + 1), perceptron_letters.numero_de_errores, marker= \"o\")\n",
    "plt.title(\"Iteraciones v/s Numero de errores: Letters.csv\")\n",
    "plt.xlabel(\"Iteracion\")\n",
    "plt.ylabel(\"Numero de errores\")\n",
    "plt.tight_layout()\n",
    "plt.show()"
   ]
  },
  {
   "cell_type": "markdown",
   "metadata": {},
   "source": [
    "#### Actividad 5: Analizar   los   resultados   obtenidos   y   concluir   sobre   los   resultados   obtenidos   en   las  actividades 2 y 3.\n",
    "\n"
   ]
  },
  {
   "cell_type": "markdown",
   "metadata": {},
   "source": [
    "En la primera actividad, donde se grafican los errores obtenidos para el entrenamiento del perceptron con compuertas AND, OR y XOR, se puede verificar que la cantidad de errores igual a 0 solo ocurre en el entrenamiento con compuertas AND y OR, esto debido a que el perceptron puede ser correctamente entrenado al ser linealmente separables, caso contrario con XOR donde este no es linealmente separable, se producen errores indefinidamente. Lo anterior se puede apreciar en los siguientes gráficos:\n"
   ]
  },
  {
   "cell_type": "code",
   "execution_count": 130,
   "metadata": {},
   "outputs": [
    {
     "data": {
      "image/png": "[encoded data removed]",
      "text/plain": [
       "<Figure size 432x288 with 1 Axes>"
      ]
     },
     "metadata": {
      "needs_background": "light"
     },
     "output_type": "display_data"
    }
   ],
   "source": [
    "AND = np.array([[0,0,0],[1,0,0],[0,1,0],[1,1,1]])\n",
    "OR = np.array([[0,0,0],[1,0,1],[0,1,1],[1,1,1]])\n",
    "XOR = np.array([[0,0,0],[1,0,1],[0,1,1],[1,1,0]])\n",
    "\n",
    "plt.scatter(AND[:3,0],AND[:3,1],color='red',label='0')\n",
    "plt.scatter(AND[3,0],AND[3,1],color='blue',label='1')\n",
    "plt.ylabel(\"input 1\")\n",
    "plt.xlabel(\"input 2\")\n",
    "plt.title(\"Salida para compuerta AND\")\n",
    "plt.legend(loc = \"center right\")\n",
    "plt.show()"
   ]
  },
  {
   "cell_type": "code",
   "execution_count": 131,
   "metadata": {},
   "outputs": [
    {
     "data": {
      "image/png": "[encoded data removed]",
      "text/plain": [
       "<Figure size 432x288 with 1 Axes>"
      ]
     },
     "metadata": {
      "needs_background": "light"
     },
     "output_type": "display_data"
    }
   ],
   "source": [
    "plt.scatter(OR[0:,0],OR[0:,1],color='blue',label='1')\n",
    "plt.scatter(OR[0,0],OR[0,1],color='red',label='0')\n",
    "plt.ylabel(\"input 1\")\n",
    "plt.xlabel(\"input 2\")\n",
    "plt.title(\"Salida para compuerta OR\")\n",
    "plt.legend(loc = \"center right\")\n",
    "plt.show()"
   ]
  },
  {
   "cell_type": "code",
   "execution_count": 132,
   "metadata": {},
   "outputs": [
    {
     "data": {
      "image/png": "[encoded data removed]",
      "text/plain": [
       "<Figure size 432x288 with 1 Axes>"
      ]
     },
     "metadata": {
      "needs_background": "light"
     },
     "output_type": "display_data"
    }
   ],
   "source": [
    "plt.scatter(OR[0,0],OR[0,1],color='red',label='0')\n",
    "plt.scatter(OR[3,0],OR[3,1],color='red')\n",
    "plt.scatter(OR[1,0],OR[1,1],color='blue')\n",
    "plt.scatter(OR[2,0],OR[2,1],color='blue',label='1')\n",
    "plt.ylabel(\"input 1\")\n",
    "plt.xlabel(\"input 2\")\n",
    "plt.title(\"Salida para compuerta XOR\")\n",
    "plt.legend(loc = \"center right\")\n",
    "plt.show()"
   ]
  },
  {
   "cell_type": "markdown",
   "metadata": {},
   "source": [
    "Como se puede observar AND y OR son linealmente separables para 0 y 1. Luego XOR no es linealmente separable.\n",
    "Ahora bien, en el gráfico de errores del perceptron entrenado a partir de los datos de letters.csv, ocurre el mismo caso de XOR: la cantidad de errores nunca llega a ser 0, por ende se debe comprobar que no son linealmente separables a través del siguiente gráfico:"
   ]
  },
  {
   "cell_type": "code",
   "execution_count": 134,
   "metadata": {},
   "outputs": [
    {
     "data": {
      "image/png": "[encoded data removed]",
      "text/plain": [
       "<Figure size 432x288 with 1 Axes>"
      ]
     },
     "metadata": {
      "needs_background": "light"
     },
     "output_type": "display_data"
    }
   ],
   "source": [
    "data_letters_l = data_letters[data_letters[2] == 'l'].values\n",
    "data_letters_o = data_letters[data_letters[2] == 'o'].values\n",
    "\n",
    "plt.scatter(data_letters_l[:,0],data_letters_l[:,1], color = 'red', marker = 'x', label = 'l')\n",
    "plt.scatter(data_letters_o[:,0],data_letters_o[:,1], color = 'green', marker = '+', label = 'o')\n",
    "plt.title(\"Clasificacion letra segun alto y ancho\")\n",
    "plt.xlabel(\"Alto\")\n",
    "plt.ylabel(\"Ancho\")\n",
    "plt.legend(loc = \"upper left\")\n",
    "plt.show()"
   ]
  },
  {
   "cell_type": "markdown",
   "metadata": {},
   "source": [
    "Luego se comprueba a través de la visualización de la grafica anterior que los datos de letters.csv no son linealmente separables, por lo tanto el perceptron no puede ser entrenado adecuadamente al punto de tener 0 errores.\n",
    "A partir de la experiencia se comprueba que los perceptrones son adecuados sólo para clases linealmente separables, como lo fue en el caso de AND y OR."
   ]
  },
  {
   "cell_type": "code",
   "execution_count": null,
   "metadata": {},
   "outputs": [],
   "source": []
  }
 ],
 "metadata": {
  "kernelspec": {
   "display_name": "Python 2",
   "language": "python",
   "name": "python2"
  },
  "language_info": {
   "codemirror_mode": {
    "name": "ipython",
    "version": 2
   },
   "file_extension": ".py",
   "mimetype": "text/x-python",
   "name": "python",
   "nbconvert_exporter": "python",
   "pygments_lexer": "ipython2",
   "version": "2.7.16"
  }
 },
 "nbformat": 4,
 "nbformat_minor": 2
}
